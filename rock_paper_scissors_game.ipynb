{
 "cells": [
  {
   "cell_type": "code",
   "execution_count": 1,
   "id": "36db3adf",
   "metadata": {},
   "outputs": [
    {
     "name": "stdout",
     "output_type": "stream",
     "text": [
      "Rock, Paper, Scissors? rock\n",
      "rock\n",
      "computer: paper\n",
      "You lose. Paper covers rock !\n"
     ]
    }
   ],
   "source": [
    "import random\n",
    "\n",
    "moves = ['rock', 'paper', 'scissors']\n",
    "\n",
    "play = True\n",
    "# A list is created by [] and is mutable.\n",
    "\n",
    "# A tuple is established by ().\n",
    "\n",
    "while play == True:\n",
    "    player = input(\"Rock, Paper, Scissors? \").lower()\n",
    "    print(player)\n",
    "    if player not in moves:\n",
    "        print(\"That is not a valid choice.\")\n",
    "        continue\n",
    "\n",
    "    computer = random.choice(moves)\n",
    "\n",
    "    print(\"computer:\", computer)\n",
    "\n",
    "    if player == computer:\n",
    "        print(\"It's a tie!\")\n",
    "        continue\n",
    "    elif player == 'rock':\n",
    "        if computer == 'paper':\n",
    "            print(\"You lose.\", computer.capitalize(), \"covers\", player, \"!\")\n",
    "        else:\n",
    "            print(\"You win!\", player.capitalize(), \"smashes\", computer, \"!\")\n",
    "    elif player == 'paper':\n",
    "        if computer == 'scissors':\n",
    "            print(\"You lose.\", computer.capitalize(), \"slices\", player, \"!\")\n",
    "        else:\n",
    "            print(\"You win!\", player.capitalize(), \"covers\", computer, \"!\")\n",
    "    elif player == 'scissors':\n",
    "        if computer == 'rock':\n",
    "            print(\"You lose.\", computer.capitalize(), \"smashes\", player, \"!\")\n",
    "        else:\n",
    "            print(\"You win!\", player.capitalize(), \"slices\", computer, \"!\")\n",
    "\n",
    "    play = False\n"
   ]
  },
  {
   "cell_type": "code",
   "execution_count": null,
   "id": "a832353e",
   "metadata": {},
   "outputs": [],
   "source": []
  }
 ],
 "metadata": {
  "kernelspec": {
   "display_name": "Python 3 (ipykernel)",
   "language": "python",
   "name": "python3"
  },
  "language_info": {
   "codemirror_mode": {
    "name": "ipython",
    "version": 3
   },
   "file_extension": ".py",
   "mimetype": "text/x-python",
   "name": "python",
   "nbconvert_exporter": "python",
   "pygments_lexer": "ipython3",
   "version": "3.10.6"
  }
 },
 "nbformat": 4,
 "nbformat_minor": 5
}
